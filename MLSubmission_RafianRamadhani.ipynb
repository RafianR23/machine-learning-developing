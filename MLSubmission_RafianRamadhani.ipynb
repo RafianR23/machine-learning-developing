{
  "nbformat": 4,
  "nbformat_minor": 0,
  "metadata": {
    "colab": {
      "name": "MLSubmission.ipynb",
      "provenance": [],
      "collapsed_sections": []
    },
    "kernelspec": {
      "name": "python3",
      "display_name": "Python 3"
    },
    "language_info": {
      "name": "python"
    }
  },
  "cells": [
    {
      "cell_type": "markdown",
      "metadata": {
        "id": "dbdq_7E5UYad"
      },
      "source": [
        "#Biodata"
      ]
    },
    {
      "cell_type": "markdown",
      "metadata": {
        "id": "xUGQ58UUUhx6"
      },
      "source": [
        "\n",
        "\n",
        "*   Nama : Rafian Ramadhani\n",
        "*   Username : Rafian\n",
        "*   Email : rafianramadhani@gmail.com\n",
        "*   Pekerjaan : Mahasiswa\n",
        "*   Link Googlecollab :\n",
        "https://colab.research.google.com/drive/1L2PyCApUeuF5UHu2P81Ta-c6CV4vw0P-?usp=sharing\n",
        "\n"
      ]
    },
    {
      "cell_type": "markdown",
      "metadata": {
        "id": "c9OnjMCYGcTP"
      },
      "source": [
        "#Install Tensorflow dan Panggil Library yang dibutuhkan"
      ]
    },
    {
      "cell_type": "code",
      "metadata": {
        "colab": {
          "base_uri": "https://localhost:8080/"
        },
        "id": "xsm5ENTCqkB9",
        "outputId": "62c4e9be-42fb-4363-cb15-c4591264f620"
      },
      "source": [
        "import tensorflow as tf\n",
        "print(tf.__version__)"
      ],
      "execution_count": 1,
      "outputs": [
        {
          "output_type": "stream",
          "text": [
            "2.5.0\n"
          ],
          "name": "stdout"
        }
      ]
    },
    {
      "cell_type": "code",
      "metadata": {
        "id": "6I9dyab3qobs"
      },
      "source": [
        "from tensorflow import keras\n",
        "from keras import layers\n",
        "from tensorflow.keras.optimizers import SGD\n",
        "from tensorflow.keras.preprocessing.image import ImageDataGenerator"
      ],
      "execution_count": 2,
      "outputs": []
    },
    {
      "cell_type": "markdown",
      "metadata": {
        "id": "Stx6fX6WGp1Q"
      },
      "source": [
        "#Download Data"
      ]
    },
    {
      "cell_type": "code",
      "metadata": {
        "colab": {
          "base_uri": "https://localhost:8080/"
        },
        "id": "htbhi1E6qrJ6",
        "outputId": "0293d777-76d3-40f8-ce81-4c5fc2f30bb3"
      },
      "source": [
        "!wget --no-check-certificate \\\n",
        "  https://dicodingacademy.blob.core.windows.net/picodiploma/ml_pemula_academy/rockpaperscissors.zip"
      ],
      "execution_count": 3,
      "outputs": [
        {
          "output_type": "stream",
          "text": [
            "--2021-07-12 17:17:06--  https://dicodingacademy.blob.core.windows.net/picodiploma/ml_pemula_academy/rockpaperscissors.zip\n",
            "Resolving dicodingacademy.blob.core.windows.net (dicodingacademy.blob.core.windows.net)... 52.239.197.36\n",
            "Connecting to dicodingacademy.blob.core.windows.net (dicodingacademy.blob.core.windows.net)|52.239.197.36|:443... connected.\n",
            "HTTP request sent, awaiting response... 200 OK\n",
            "Length: 322873683 (308M) [application/zip]\n",
            "Saving to: ‘rockpaperscissors.zip’\n",
            "\n",
            "rockpaperscissors.z 100%[===================>] 307.92M  2.34MB/s    in 52s     \n",
            "\n",
            "2021-07-12 17:17:59 (5.90 MB/s) - ‘rockpaperscissors.zip’ saved [322873683/322873683]\n",
            "\n"
          ],
          "name": "stdout"
        }
      ]
    },
    {
      "cell_type": "markdown",
      "metadata": {
        "id": "ALDNSSQcGsFf"
      },
      "source": [
        "#Inisiasi Lokasi Data"
      ]
    },
    {
      "cell_type": "code",
      "metadata": {
        "id": "Nt9J5l2vqwfH"
      },
      "source": [
        "# melakukan ekstraksi pada file zip\n",
        "import zipfile,os\n",
        "local_zip = 'rockpaperscissors.zip'\n",
        "zip_ref = zipfile.ZipFile(local_zip, 'r')\n",
        "zip_ref.extractall('/latianml')\n",
        "zip_ref.close()\n",
        "\n",
        "base_dir = '/latianml/rockpaperscissors'"
      ],
      "execution_count": 48,
      "outputs": []
    },
    {
      "cell_type": "code",
      "metadata": {
        "id": "fRhvBsarrC_U"
      },
      "source": [
        "import shutil\n",
        "shutil.rmtree(os.path.join(base_dir, 'rps-cv-images'))\n",
        "os.remove(os.path.join(base_dir, 'README_rpc-cv-images.txt'))"
      ],
      "execution_count": 49,
      "outputs": []
    },
    {
      "cell_type": "code",
      "metadata": {
        "colab": {
          "base_uri": "https://localhost:8080/"
        },
        "id": "mqraxAkYrMpV",
        "outputId": "927d37d3-d897-4b3c-a5e9-2445afb0fdac"
      },
      "source": [
        "os.listdir(base_dir)"
      ],
      "execution_count": 50,
      "outputs": [
        {
          "output_type": "execute_result",
          "data": {
            "text/plain": [
              "['rock', 'paper', 'scissors']"
            ]
          },
          "metadata": {
            "tags": []
          },
          "execution_count": 50
        }
      ]
    },
    {
      "cell_type": "markdown",
      "metadata": {
        "id": "C-mKPbr-GvvD"
      },
      "source": [
        "#Lakukan Image Generator untuk Persiapan dan Split Data"
      ]
    },
    {
      "cell_type": "code",
      "metadata": {
        "id": "H-So_lWfrOFC"
      },
      "source": [
        "train_datagen = ImageDataGenerator(\n",
        "                    rescale=1./255,\n",
        "                    rotation_range=90,\n",
        "                    horizontal_flip=True,\n",
        "                    shear_range = 0.2,\n",
        "                    fill_mode = 'nearest',\n",
        "                    validation_split = 0.2)\n"
      ],
      "execution_count": 51,
      "outputs": []
    },
    {
      "cell_type": "code",
      "metadata": {
        "colab": {
          "base_uri": "https://localhost:8080/"
        },
        "id": "QdtRLiRprPJd",
        "outputId": "888b06b5-7b63-4f8a-8718-cfa7f97eaa59"
      },
      "source": [
        "train_generator = train_datagen.flow_from_directory(\n",
        "        base_dir,  # direktori data latih\n",
        "        target_size=(150, 150),\n",
        "        batch_size=32,\n",
        "        class_mode='categorical',\n",
        "        shuffle = True,\n",
        "        subset='training')\n",
        "\n",
        "val_generator = train_datagen.flow_from_directory(\n",
        "        base_dir, # direktori data validasi\n",
        "        target_size=(150, 150),\n",
        "        batch_size=32, \n",
        "        class_mode='categorical',\n",
        "        shuffle = True,\n",
        "        subset='validation')"
      ],
      "execution_count": 52,
      "outputs": [
        {
          "output_type": "stream",
          "text": [
            "Found 1751 images belonging to 3 classes.\n",
            "Found 437 images belonging to 3 classes.\n"
          ],
          "name": "stdout"
        }
      ]
    },
    {
      "cell_type": "markdown",
      "metadata": {
        "id": "lj2RujelK5WL"
      },
      "source": [
        "#Arsitektur CNN"
      ]
    },
    {
      "cell_type": "code",
      "metadata": {
        "id": "CnjXH1u0rQSD"
      },
      "source": [
        "model = tf.keras.models.Sequential([\n",
        "    tf.keras.layers.Conv2D(32, (3,3), activation='relu', input_shape=(150, 150, 3)),\n",
        "    tf.keras.layers.MaxPooling2D(2, 2),\n",
        "    tf.keras.layers.Conv2D(64, (3,3), activation='relu'),\n",
        "    tf.keras.layers.MaxPooling2D(2,2),\n",
        "    tf.keras.layers.Conv2D(128, (3,3), activation='relu'),\n",
        "    tf.keras.layers.MaxPooling2D(2,2),\n",
        "    tf.keras.layers.Conv2D(512, (3,3), activation='relu'),\n",
        "    tf.keras.layers.MaxPooling2D(2,2),\n",
        "    tf.keras.layers.Flatten(),\n",
        "    tf.keras.layers.Dense(512, activation='relu'),\n",
        "    tf.keras.layers.Dense(3, activation='softmax')\n",
        "])"
      ],
      "execution_count": 53,
      "outputs": []
    },
    {
      "cell_type": "markdown",
      "metadata": {
        "id": "88BARp6XLHtb"
      },
      "source": [
        "#Compile model dengan 'adam' optimizer loss function Category Crossentropy "
      ]
    },
    {
      "cell_type": "code",
      "metadata": {
        "id": "cfgolWye1wBQ"
      },
      "source": [
        "\n",
        "class myCallback(tf.keras.callbacks.Callback):\n",
        "  def on_epoch_end(self, epoch, logs={}):\n",
        "    if(logs.get('accuracy')>0.92 and logs.get('val_accuracy')>0.92):\n",
        "      print(\"\\nAccuracy above 92%, finish training!\")\n",
        "      self.model.stop_training = True\n",
        "\n",
        "callbacks = myCallback()"
      ],
      "execution_count": 54,
      "outputs": []
    },
    {
      "cell_type": "code",
      "metadata": {
        "id": "n8liOaEwrRim"
      },
      "source": [
        "model.compile(loss='categorical_crossentropy',\n",
        "              optimizer='adam',\n",
        "              metrics=['accuracy'])"
      ],
      "execution_count": 55,
      "outputs": []
    },
    {
      "cell_type": "markdown",
      "metadata": {
        "id": "bP736FB-HTQ7"
      },
      "source": [
        "#Train Model"
      ]
    },
    {
      "cell_type": "code",
      "metadata": {
        "colab": {
          "base_uri": "https://localhost:8080/"
        },
        "id": "8jlzkNNhrVM8",
        "outputId": "bc38bc5b-004c-42a3-8620-7e82a11cecfa"
      },
      "source": [
        " history = model.fit(\n",
        "             train_generator,\n",
        "             steps_per_epoch=25,  \n",
        "             epochs=20,\n",
        "             validation_data=val_generator, \n",
        "             validation_steps=5, \n",
        "             callbacks = [callbacks], \n",
        "             verbose=2)"
      ],
      "execution_count": 56,
      "outputs": [
        {
          "output_type": "stream",
          "text": [
            "Epoch 1/20\n",
            "25/25 - 46s - loss: 1.1579 - accuracy: 0.3475 - val_loss: 1.0947 - val_accuracy: 0.4250\n",
            "Epoch 2/20\n",
            "25/25 - 44s - loss: 1.0344 - accuracy: 0.4564 - val_loss: 0.9338 - val_accuracy: 0.6187\n",
            "Epoch 3/20\n",
            "25/25 - 45s - loss: 0.9133 - accuracy: 0.5587 - val_loss: 0.8530 - val_accuracy: 0.6438\n",
            "Epoch 4/20\n",
            "25/25 - 45s - loss: 0.7128 - accuracy: 0.7300 - val_loss: 0.6032 - val_accuracy: 0.8125\n",
            "Epoch 5/20\n",
            "25/25 - 44s - loss: 0.5576 - accuracy: 0.7825 - val_loss: 0.4290 - val_accuracy: 0.8125\n",
            "Epoch 6/20\n",
            "25/25 - 44s - loss: 0.3708 - accuracy: 0.8786 - val_loss: 0.3429 - val_accuracy: 0.9000\n",
            "Epoch 7/20\n",
            "25/25 - 45s - loss: 0.4274 - accuracy: 0.8445 - val_loss: 0.3538 - val_accuracy: 0.8875\n",
            "Epoch 8/20\n",
            "25/25 - 48s - loss: 0.2586 - accuracy: 0.9050 - val_loss: 0.3350 - val_accuracy: 0.8625\n",
            "Epoch 9/20\n",
            "25/25 - 48s - loss: 0.1821 - accuracy: 0.9413 - val_loss: 0.1287 - val_accuracy: 0.9625\n",
            "\n",
            "Accuracy above 92%, finish training!\n"
          ],
          "name": "stdout"
        }
      ]
    },
    {
      "cell_type": "markdown",
      "metadata": {
        "id": "u2ir5BfFEl3z"
      },
      "source": [
        "#EDA Hasil Prediksi"
      ]
    },
    {
      "cell_type": "code",
      "metadata": {
        "id": "0Vc6Ua4fsEeX"
      },
      "source": [
        "import matplotlib.pyplot as plt\n",
        "import seaborn as sns\n",
        "\n",
        "akurasi = hasil.history['accuracy']\n",
        "vallidasi_akurasi = hasil.history['val_accuracy']\n",
        "\n",
        "loss = hasil.history['loss']\n",
        "validasi_loss = hasil.history['val_loss']"
      ],
      "execution_count": 57,
      "outputs": []
    },
    {
      "cell_type": "code",
      "metadata": {
        "colab": {
          "base_uri": "https://localhost:8080/",
          "height": 621
        },
        "id": "yCOJ_Y5k7cfT",
        "outputId": "80af08f9-f5d0-4e0e-97b8-0b7c7f5eaff7"
      },
      "source": [
        "plt.plot(history.history['accuracy'])\n",
        "plt.plot(history.history['val_accuracy'])\n",
        "plt.title('Accuracy')\n",
        "plt.ylabel('accuracy')\n",
        "plt.xlabel('epoch')\n",
        "plt.legend(['train', 'val'], loc='upper left')\n",
        "plt.show()"
      ],
      "execution_count": 60,
      "outputs": [
        {
          "output_type": "display_data",
          "data": {
            "image/png": "[encoded data removed]",
            "text/plain": [
              "<Figure size 1080x720 with 1 Axes>"
            ]
          },
          "metadata": {
            "tags": [],
            "needs_background": "light"
          }
        }
      ]
    },
    {
      "cell_type": "code",
      "metadata": {
        "colab": {
          "base_uri": "https://localhost:8080/",
          "height": 621
        },
        "id": "9mR3u9FHCnAw",
        "outputId": "dce5928c-9b61-4897-88ef-d7ef395cf7bc"
      },
      "source": [
        "plt.plot(history.history['loss'])\n",
        "plt.plot(history.history['val_loss'])\n",
        "plt.title('Loss')\n",
        "plt.ylabel('loss')\n",
        "plt.xlabel('epoch')\n",
        "plt.legend(['train', 'val'], loc='upper left')\n",
        "plt.show()"
      ],
      "execution_count": 61,
      "outputs": [
        {
          "output_type": "display_data",
          "data": {
            "image/png": "[encoded data removed]",
            "text/plain": [
              "<Figure size 1080x720 with 1 Axes>"
            ]
          },
          "metadata": {
            "tags": [],
            "needs_background": "light"
          }
        }
      ]
    },
    {
      "cell_type": "code",
      "metadata": {
        "id": "qhz4O81RWMO1",
        "colab": {
          "base_uri": "https://localhost:8080/"
        },
        "outputId": "e56a6a82-a890-46b0-af0a-cc4bedf575f5"
      },
      "source": [
        "# Konversi model.\n",
        "converter = tf.lite.TFLiteConverter.from_keras_model(model)\n",
        "tflite_model = converter.convert()\n",
        "\n",
        "with tf.io.gfile.GFile('model.tflite', 'wb') as f:\n",
        "  f.write(tflite_model)"
      ],
      "execution_count": 62,
      "outputs": [
        {
          "output_type": "stream",
          "text": [
            "INFO:tensorflow:Assets written to: /tmp/tmp8rvnzi4c/assets\n"
          ],
          "name": "stdout"
        },
        {
          "output_type": "stream",
          "text": [
            "INFO:tensorflow:Assets written to: /tmp/tmp8rvnzi4c/assets\n"
          ],
          "name": "stderr"
        }
      ]
    },
    {
      "cell_type": "code",
      "metadata": {
        "colab": {
          "base_uri": "https://localhost:8080/"
        },
        "id": "6l0AC4Jv0xCy",
        "outputId": "8f8bf44f-bff3-4472-97e7-1b37a9d88910"
      },
      "source": [
        "# The '.h5' extension indicates that the model should be saved to HDF5.\n",
        "model.save('my_model.pb') "
      ],
      "execution_count": 63,
      "outputs": [
        {
          "output_type": "stream",
          "text": [
            "INFO:tensorflow:Assets written to: my_model.pb/assets\n"
          ],
          "name": "stdout"
        },
        {
          "output_type": "stream",
          "text": [
            "INFO:tensorflow:Assets written to: my_model.pb/assets\n"
          ],
          "name": "stderr"
        }
      ]
    },
    {
      "cell_type": "code",
      "metadata": {
        "id": "C5PPdW0x69Bm"
      },
      "source": [
        ""
      ],
      "execution_count": null,
      "outputs": []
    }
  ]
}