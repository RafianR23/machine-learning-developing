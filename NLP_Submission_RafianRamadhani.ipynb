{
  "nbformat": 4,
  "nbformat_minor": 0,
  "metadata": {
    "colab": {
      "name": "NLP_Submission_RafianRamadhani.ipynb",
      "provenance": [],
      "collapsed_sections": []
    },
    "kernelspec": {
      "name": "python3",
      "display_name": "Python 3"
    },
    "language_info": {
      "name": "python"
    }
  },
  "cells": [
    {
      "cell_type": "markdown",
      "metadata": {
        "id": "eMV87iNYEYvp"
      },
      "source": [
        "## Import Dataset dari Folder di Google Drive"
      ]
    },
    {
      "cell_type": "code",
      "metadata": {
        "colab": {
          "base_uri": "https://localhost:8080/"
        },
        "id": "se-AfdxiiruK",
        "outputId": "3340901e-36f2-4f90-a35e-8312fdc9a277"
      },
      "source": [
        "from google.colab import drive\n",
        "drive.mount('/content/gdrive')"
      ],
      "execution_count": null,
      "outputs": [
        {
          "output_type": "stream",
          "text": [
            "Mounted at /content/gdrive\n"
          ],
          "name": "stdout"
        }
      ]
    },
    {
      "cell_type": "code",
      "metadata": {
        "id": "KKLRyIT9ixte"
      },
      "source": [
        "import pandas as pd\n",
        "df=pd.read_csv('/content/gdrive/My Drive/Startup/DicodingMLPemula/Submission_NLP/dataset_film/Train.csv')\n",
        "#df_test=pd.read_csv('/content/gdrive/My Drive/Sanbercode/Week4/Project/test.csv')\n",
        "#df_test=pd.read_csv('/content/gdrive/My Drive/Sanbercode/Week4/Project/test.csv')\n",
        "#df_test=pd.read_csv('/content/gdrive/My Drive/Sanbercode/Week4/Project/test.csv')"
      ],
      "execution_count": null,
      "outputs": []
    },
    {
      "cell_type": "markdown",
      "metadata": {
        "id": "fd8ylGyRETU1"
      },
      "source": [
        "## Standarisasi Nilai"
      ]
    },
    {
      "cell_type": "code",
      "metadata": {
        "id": "4hgHYorj-5ZX"
      },
      "source": [
        "sns.set_context('paper')\n",
        "\n",
        "SEED = 42\n",
        "# The maximum number of words to be used. (most frequent)\n",
        "MAX_NB_WORDS = 3000\n",
        "# Max number of words in each complaint.\n",
        "MAX_SEQUENCE_LENGTH = 300\n",
        "# This is fixed.\n",
        "EMBEDDING_DIM = 100"
      ],
      "execution_count": null,
      "outputs": []
    },
    {
      "cell_type": "markdown",
      "metadata": {
        "id": "delt98I6Eeen"
      },
      "source": [
        "## Mengambil 3.000 dari 40.000 Data Untuk di Uji"
      ]
    },
    {
      "cell_type": "code",
      "metadata": {
        "id": "dvE-YgXc_Aia"
      },
      "source": [
        "df=df.head(3000)"
      ],
      "execution_count": null,
      "outputs": []
    },
    {
      "cell_type": "markdown",
      "metadata": {
        "id": "iCAZ1X8oElKJ"
      },
      "source": [
        "## Langkah Tokenize Text"
      ]
    },
    {
      "cell_type": "code",
      "metadata": {
        "colab": {
          "base_uri": "https://localhost:8080/"
        },
        "id": "5xb9vbns-h5r",
        "outputId": "277314cf-939d-42d1-c1e2-9a3707d88a84"
      },
      "source": [
        "token = tf.keras.preprocessing.text.Tokenizer(num_words=MAX_NB_WORDS)\n",
        "token.fit_on_texts(df['text'])\n",
        "x_encoded = token.texts_to_sequences(df['text'])\n",
        "x = tf.keras.preprocessing.sequence.pad_sequences(x_encoded, maxlen=MAX_SEQUENCE_LENGTH)\n",
        "y = df['label']\n",
        "print(\"X: {}\\nY: {}\".format(len(x), len(y)))"
      ],
      "execution_count": null,
      "outputs": [
        {
          "output_type": "stream",
          "text": [
            "X: 3000\n",
            "Y: 3000\n"
          ],
          "name": "stdout"
        }
      ]
    },
    {
      "cell_type": "markdown",
      "metadata": {
        "id": "b6uDJXosEpUl"
      },
      "source": [
        "## Membagi Daat Latih dan Uji"
      ]
    },
    {
      "cell_type": "code",
      "metadata": {
        "id": "pOtoyLtgkEJD"
      },
      "source": [
        "from sklearn.model_selection import train_test_split\n",
        "x_train, x_test, y_train, y_test = train_test_split(x, y, test_size=0.2, random_state=SEED)"
      ],
      "execution_count": null,
      "outputs": []
    },
    {
      "cell_type": "markdown",
      "metadata": {
        "id": "NzxP79i4Eu7g"
      },
      "source": [
        "## Menyusun Arsitektur dari Tensorflow"
      ]
    },
    {
      "cell_type": "code",
      "metadata": {
        "id": "yuFV0z3NksYS",
        "colab": {
          "base_uri": "https://localhost:8080/"
        },
        "outputId": "e9133758-13e3-4397-c166-236887831ef2"
      },
      "source": [
        "model = tf.keras.models.Sequential()\n",
        "model.add(tf.keras.layers.Embedding(MAX_NB_WORDS, EMBEDDING_DIM, input_length=x.shape[1]))\n",
        "model.add(tf.keras.layers.SpatialDropout1D(0.2))\n",
        "model.add(tf.keras.layers.LSTM(128, dropout=0.1, recurrent_dropout=0.1, return_sequences=True))\n",
        "model.add(tf.keras.layers.LSTM(64, dropout=0.1, recurrent_dropout=0.1))\n",
        "model.add(tf.keras.layers.Dense(32, activation='relu'))\n",
        "model.add(tf.keras.layers.Dense(1, activation='sigmoid'))\n",
        "\n",
        "model.compile(loss='binary_crossentropy', optimizer='adam', metrics=['accuracy'])\n",
        "\n",
        "model.summary()"
      ],
      "execution_count": null,
      "outputs": [
        {
          "output_type": "stream",
          "text": [
            "Model: \"sequential_2\"\n",
            "_________________________________________________________________\n",
            "Layer (type)                 Output Shape              Param #   \n",
            "=================================================================\n",
            "embedding_2 (Embedding)      (None, 300, 100)          300000    \n",
            "_________________________________________________________________\n",
            "spatial_dropout1d (SpatialDr (None, 300, 100)          0         \n",
            "_________________________________________________________________\n",
            "lstm_2 (LSTM)                (None, 300, 128)          117248    \n",
            "_________________________________________________________________\n",
            "lstm_3 (LSTM)                (None, 64)                49408     \n",
            "_________________________________________________________________\n",
            "dense_4 (Dense)              (None, 32)                2080      \n",
            "_________________________________________________________________\n",
            "dense_5 (Dense)              (None, 1)                 33        \n",
            "=================================================================\n",
            "Total params: 468,769\n",
            "Trainable params: 468,769\n",
            "Non-trainable params: 0\n",
            "_________________________________________________________________\n"
          ],
          "name": "stdout"
        }
      ]
    },
    {
      "cell_type": "markdown",
      "metadata": {
        "id": "xSEKHbgkE08k"
      },
      "source": [
        "## Melakukan Training pada Data"
      ]
    },
    {
      "cell_type": "code",
      "metadata": {
        "colab": {
          "base_uri": "https://localhost:8080/"
        },
        "id": "e2ujXX86kzHM",
        "outputId": "ce5e82eb-c408-4f87-ddda-7c09a8ff2851"
      },
      "source": [
        "hist = model.fit(x, y, epochs=10, validation_data=(x_test, y_test))"
      ],
      "execution_count": null,
      "outputs": [
        {
          "output_type": "stream",
          "text": [
            "Epoch 1/10\n",
            "94/94 [==============================] - 132s 1s/step - loss: 0.6330 - accuracy: 0.6327 - val_loss: 0.4280 - val_accuracy: 0.8433\n",
            "Epoch 2/10\n",
            "94/94 [==============================] - 125s 1s/step - loss: 0.3959 - accuracy: 0.8270 - val_loss: 0.2558 - val_accuracy: 0.9317\n",
            "Epoch 3/10\n",
            "94/94 [==============================] - 126s 1s/step - loss: 0.2538 - accuracy: 0.9023 - val_loss: 0.1333 - val_accuracy: 0.9500\n",
            "Epoch 4/10\n",
            "94/94 [==============================] - 128s 1s/step - loss: 0.1795 - accuracy: 0.9283 - val_loss: 0.1269 - val_accuracy: 0.9450\n",
            "Epoch 5/10\n",
            "94/94 [==============================] - 126s 1s/step - loss: 0.1309 - accuracy: 0.9513 - val_loss: 0.0737 - val_accuracy: 0.9817\n",
            "Epoch 6/10\n",
            "94/94 [==============================] - 126s 1s/step - loss: 0.0799 - accuracy: 0.9750 - val_loss: 0.0427 - val_accuracy: 0.9883\n",
            "Epoch 7/10\n",
            "94/94 [==============================] - 126s 1s/step - loss: 0.0400 - accuracy: 0.9873 - val_loss: 0.0109 - val_accuracy: 0.9983\n",
            "Epoch 8/10\n",
            "94/94 [==============================] - 125s 1s/step - loss: 0.0396 - accuracy: 0.9853 - val_loss: 0.0217 - val_accuracy: 0.9917\n",
            "Epoch 9/10\n",
            "94/94 [==============================] - 126s 1s/step - loss: 0.0289 - accuracy: 0.9920 - val_loss: 0.0026 - val_accuracy: 1.0000\n",
            "Epoch 10/10\n",
            "94/94 [==============================] - 124s 1s/step - loss: 0.0271 - accuracy: 0.9920 - val_loss: 0.0126 - val_accuracy: 0.9933\n"
          ],
          "name": "stdout"
        }
      ]
    },
    {
      "cell_type": "markdown",
      "metadata": {
        "id": "cKV_DPwhGXJb"
      },
      "source": [
        "## Membuat Plot dari History"
      ]
    },
    {
      "cell_type": "code",
      "metadata": {
        "id": "YijMi5_pqxuP",
        "colab": {
          "base_uri": "https://localhost:8080/",
          "height": 294
        },
        "outputId": "1246c55a-5502-428e-a975-ec66fa0b046c"
      },
      "source": [
        "plt.plot(hist.history['accuracy'])\n",
        "plt.plot(hist.history['val_accuracy'])\n",
        "plt.title('Akurasi Model')\n",
        "plt.ylabel('accuracy')\n",
        "plt.xlabel('epoch')\n",
        "plt.legend(['train', 'test'], loc = 'upper left')\n",
        "plt.show()"
      ],
      "execution_count": null,
      "outputs": [
        {
          "output_type": "display_data",
          "data": {
            "image/png": "[encoded data removed]",
            "text/plain": [
              "<Figure size 432x288 with 1 Axes>"
            ]
          },
          "metadata": {
            "tags": [],
            "needs_background": "light"
          }
        }
      ]
    },
    {
      "cell_type": "code",
      "metadata": {
        "colab": {
          "base_uri": "https://localhost:8080/",
          "height": 294
        },
        "id": "ouUhf53AFM4j",
        "outputId": "5039c493-98ad-4fad-b6d0-1467489df168"
      },
      "source": [
        "plt.plot(hist.history['loss'])\n",
        "plt.plot(hist.history['val_loss'])\n",
        "plt.title('Loss Model')\n",
        "plt.ylabel('loss')\n",
        "plt.xlabel('epoch')\n",
        "plt.legend(['train', 'test'], loc = 'upper left')\n",
        "plt.show()"
      ],
      "execution_count": null,
      "outputs": [
        {
          "output_type": "display_data",
          "data": {
            "image/png": "[encoded data removed]",
            "text/plain": [
              "<Figure size 432x288 with 1 Axes>"
            ]
          },
          "metadata": {
            "tags": [],
            "needs_background": "light"
          }
        }
      ]
    }
  ]
}